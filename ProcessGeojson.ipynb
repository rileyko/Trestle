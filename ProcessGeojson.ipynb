{
 "cells": [
  {
   "cell_type": "code",
   "execution_count": 5,
   "metadata": {},
   "outputs": [],
   "source": [
    "#!/usr/bin/python\n",
    "import json\n",
    "import os\n",
    "os.chdir(os.path.expanduser('~/Downloads'))\n",
    "# standard geojson file\n",
    "f = open('TL_SCCO_SIG (1).json', 'r', encoding='utf-8')\n",
    "json_contents = json.loads(f.read())\n",
    "features = json_contents[\"features\"]\n",
    "for i in features:\n",
    "    i[\"id\"] = i[\"properties\"][\"SIG_KOR_NM\"]\n",
    "json_contents[\"features\"] = features\n",
    "# Normalized geojson for Tableau map\n",
    "out_file = open(\"test2_result.json\", \"w\", encoding='utf-8')\n",
    "out_file.write(json.dumps(json_contents))\n",
    "out_file.close()"
   ]
  }
 ],
 "metadata": {
  "kernelspec": {
   "display_name": "whisper",
   "language": "python",
   "name": "python3"
  },
  "language_info": {
   "codemirror_mode": {
    "name": "ipython",
    "version": 3
   },
   "file_extension": ".py",
   "mimetype": "text/x-python",
   "name": "python",
   "nbconvert_exporter": "python",
   "pygments_lexer": "ipython3",
   "version": "3.9.16"
  },
  "orig_nbformat": 4,
  "vscode": {
   "interpreter": {
    "hash": "ed0875d163cbe944a78937247d72585bd4776298662a1695c71df8444d18d86b"
   }
  }
 },
 "nbformat": 4,
 "nbformat_minor": 2
}
