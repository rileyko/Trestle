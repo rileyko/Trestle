{
 "cells": [
  {
   "attachments": {},
   "cell_type": "markdown",
   "metadata": {},
   "source": [
    "### Whisper을 통한 회의록 생성 테스트"
   ]
  },
  {
   "cell_type": "code",
   "execution_count": 1,
   "metadata": {},
   "outputs": [
    {
     "data": {
      "text/plain": [
       "True"
      ]
     },
     "execution_count": 1,
     "metadata": {},
     "output_type": "execute_result"
    }
   ],
   "source": [
    "# torch 설치 테스트\n",
    "import torch\n",
    "torch.backends.mps.is_available()"
   ]
  },
  {
   "cell_type": "code",
   "execution_count": 3,
   "metadata": {},
   "outputs": [
    {
     "name": "stderr",
     "output_type": "stream",
     "text": [
      "/Users/rileyko/opt/anaconda3/envs/whisper/lib/python3.9/site-packages/tqdm/auto.py:21: TqdmWarning: IProgress not found. Please update jupyter and ipywidgets. See https://ipywidgets.readthedocs.io/en/stable/user_install.html\n",
      "  from .autonotebook import tqdm as notebook_tqdm\n"
     ]
    }
   ],
   "source": [
    "import whisper"
   ]
  },
  {
   "attachments": {},
   "cell_type": "markdown",
   "metadata": {},
   "source": [
    "### 번역 (En -> Kr)"
   ]
  },
  {
   "cell_type": "code",
   "execution_count": 9,
   "metadata": {},
   "outputs": [
    {
     "name": "stdout",
     "output_type": "stream",
     "text": [
      "{\"message\":{\"result\":{\"srcLangType\":\"en\",\"tarLangType\":\"ko\",\"translatedText\":\"연사는 ITOMAX와 함께 프로젝트 구성, ITOMAX와 협력할 모든 IPMF 그룹의 브랜드에 대한 마스터 서비스 계약(MSA) 작성, 가격 책정의 세 가지 주요 주제에 대해 논의하고 있습니다. 그들은 양 당사자 모두에게 실현 가능한 조건을 갖춘 명확한 MSA를 구축하고 프로세스를 가속화하기를 원합니다. 화자는 ITOMAX의 계약 관리 및 법적 문제에 대한 조직과 계약 구축에 걸리는 시간에 대해 묻습니다. 그들은 또한 구현과 가격 책정을 위한 패키지 거래의 가능성에 대해 논의한다. ITOMAX는 솔루션에 대한 가격표와 개발자 및 컨설턴트의 모든 역할과 수준에 대한 가격표를 제공하는 데 동의합니다.\",\"engineType\":\"UNDEF_MULTI_SENTENCE\",\"pivot\":null,\"dict\":null,\"tarDict\":null},\"@type\":\"response\",\"@service\":\"naverservice.nmt.proxy\",\"@version\":\"1.0.0\"}}\n"
     ]
    }
   ],
   "source": [
    "import os\n",
    "import sys\n",
    "import urllib.request\n",
    "client_id = \"#\" # 개발자센터에서 발급받은 Client ID 값\n",
    "client_secret = \"#\" # 개발자센터에서 발급받은 Client Secret 값\n",
    "encText = urllib.parse.quote(\"The speaker is discussing three main topics with ITOMAX: project organization, creating a master service agreement (MSA) for all brands of the IPMF group to work with ITOMAX, and pricing. They want to establish a clear MSA with terms and conditions that are feasible for both parties and will accelerate the process. The speaker asks about ITOMAX's organization for contract management and legal issues and the time it takes to build an agreement. They also discuss the possibility of a package deal for implementation and pricing. ITOMAX agrees to provide a pricing table for solutions and a table of prices for every role and level of their developers and consultants.\")\n",
    "data = \"source=en&target=ko&text=\" + encText\n",
    "url = \"https://openapi.naver.com/v1/papago/n2mt\"\n",
    "request = urllib.request.Request(url)\n",
    "request.add_header(\"X-Naver-Client-Id\",client_id)\n",
    "request.add_header(\"X-Naver-Client-Secret\",client_secret)\n",
    "response = urllib.request.urlopen(request, data=data.encode(\"utf-8\"))\n",
    "rescode = response.getcode()\n",
    "if(rescode==200):\n",
    "    response_body = response.read()\n",
    "    print(response_body.decode('utf-8'))\n",
    "else:\n",
    "    print(\"Error Code:\" + rescode)"
   ]
  }
 ],
 "metadata": {
  "kernelspec": {
   "display_name": "whisper",
   "language": "python",
   "name": "python3"
  },
  "language_info": {
   "codemirror_mode": {
    "name": "ipython",
    "version": 3
   },
   "file_extension": ".py",
   "mimetype": "text/x-python",
   "name": "python",
   "nbconvert_exporter": "python",
   "pygments_lexer": "ipython3",
   "version": "3.9.16"
  },
  "orig_nbformat": 4,
  "vscode": {
   "interpreter": {
    "hash": "ed0875d163cbe944a78937247d72585bd4776298662a1695c71df8444d18d86b"
   }
  }
 },
 "nbformat": 4,
 "nbformat_minor": 2
}
